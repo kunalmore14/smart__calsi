{
 "cells": [
  {
   "cell_type": "code",
   "execution_count": null,
   "id": "acf92e22",
   "metadata": {},
   "outputs": [
    {
     "name": "stdout",
     "output_type": "stream",
     "text": [
      "Select operation.\n",
      "1.Add\n",
      "2.Subtract\n",
      "3.Multiply\n",
      "4.Divide\n"
     ]
    }
   ],
   "source": [
    "def add(x,y):\n",
    "    return x+y\n",
    "\n",
    "def sub(x,y):\n",
    "    return x-y\n",
    "\n",
    "def mul(x,y):\n",
    "    return x*y\n",
    "\n",
    "def div(x,y):\n",
    "    return x/y\n",
    "\n",
    "print(\"Select operation.\")\n",
    "print(\"1.Add\")\n",
    "print(\"2.Subtract\")\n",
    "print(\"3.Multiply\")\n",
    "print(\"4.Divide\")\n",
    "\n",
    "while True:\n",
    "    choice = input(\"Enter choice(1/2/3/4): \")\n",
    "\n",
    "    if choice in ('1','2','3','4'):\n",
    "        num1 = float(input(\"Enter first number: \"))\n",
    "        num2 = float(input(\"Enter second number: \"))\n",
    "\n",
    "        if choice == '1':\n",
    "            print(num1,\"+\",num2,\"=\", add(num1,num2))\n",
    "\n",
    "        elif choice == '2':\n",
    "            print(num1,\"-\",num2,\"=\", sub(num1,num2))\n",
    "\n",
    "        elif choice == '3':\n",
    "            print(num1,\"*\",num2,\"=\",\n",
    "            mul(num1,num2))\n",
    "\n",
    "        elif choice == '4':\n",
    "            print(num1,\"/\",num2,\"=\",\n",
    "            div(num1,num2))\n",
    "        break\n",
    "    else:\n",
    "        print(\"Invalid Input\")\n",
    "        print(\"Select operation.\")\n",
    "        print(\"1.Add\")\n",
    "        print(\"2.Subtract\")\n",
    "        print(\"3.Multiply\")\n",
    "        print(\"4.Divide\")\n",
    "        continue"
   ]
  },
  {
   "cell_type": "code",
   "execution_count": null,
   "id": "544caafa",
   "metadata": {},
   "outputs": [],
   "source": []
  }
 ],
 "metadata": {
  "kernelspec": {
   "display_name": "Python 3 (ipykernel)",
   "language": "python",
   "name": "python3"
  },
  "language_info": {
   "codemirror_mode": {
    "name": "ipython",
    "version": 3
   },
   "file_extension": ".py",
   "mimetype": "text/x-python",
   "name": "python",
   "nbconvert_exporter": "python",
   "pygments_lexer": "ipython3",
   "version": "3.9.12"
  }
 },
 "nbformat": 4,
 "nbformat_minor": 5
}
